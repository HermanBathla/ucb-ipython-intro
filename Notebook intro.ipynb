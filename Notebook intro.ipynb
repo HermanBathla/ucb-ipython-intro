{
 "metadata": {
  "kernelspec": {
   "display_name": "Python 2",
   "language": "python",
   "name": "python2"
  },
  "language_info": {
   "codemirror_mode": {
    "name": "ipython",
    "version": 2
   },
   "file_extension": ".py",
   "mimetype": "text/x-python",
   "name": "python",
   "nbconvert_exporter": "python",
   "pygments_lexer": "ipython2",
   "version": "2.7.8"
  },
  "name": ""
 },
 "nbformat": 3,
 "nbformat_minor": 0,
 "worksheets": [
  {
   "cells": [
    {
     "cell_type": "markdown",
     "metadata": {},
     "source": [
      "# Welcome to the IPython Notebook\n",
      "\n",
      "The IPython Notebook is a tool for scientific programming. You create *notebooks*, documents containing your code and the output from running the code, as well as notes. This document is a notebook.\n",
      "\n",
      "The Notebook is very useful for:\n",
      "\n",
      "- *Exploratory coding*: when you don't know in advance exactly what you need to do, you write a little bit of code, run it, go back and tweak it, run it again, and so on.\n",
      "- *Sharing your work*: explain and demonstrate what you're doing, then upload it (e.g. to Github), and send people a link to view it on [nbviewer](http://nbviewer.ipython.org/).\n",
      "- Lessons, demos and talks\n",
      "\n",
      "But it's not the right tool for all programming: as code gets more complicated, we move pieces of it out into modules so that we can reuse it in several files.\n",
      "\n",
      "You should already have the IPython notebook installed. To launch it from the command line, run:\n",
      "\n",
      "    ipython notebook\n",
      "\n",
      "If you don't have it, see the [IPython install page](http://ipython.org/install.html)."
     ]
    },
    {
     "cell_type": "markdown",
     "metadata": {},
     "source": [
      "## Running code\n",
      "\n",
      "Here's some code. To run it, select the *cell* and press Shift-Enter, or click the <img alt=\"play icon\" src=\"play_button.png\" style=\"display:inline; vertical-align:text-bottom;\"> button in the toolbar."
     ]
    },
    {
     "cell_type": "code",
     "collapsed": true,
     "input": [
      "counter = 0"
     ],
     "language": "python",
     "metadata": {},
     "outputs": [],
     "prompt_number": null
    },
    {
     "cell_type": "code",
     "collapsed": false,
     "input": [
      "counter = counter + 1\n",
      "print \"Counter is\", counter"
     ],
     "language": "python",
     "metadata": {},
     "outputs": [],
     "prompt_number": null
    },
    {
     "cell_type": "markdown",
     "metadata": {},
     "source": [
      "You can go back and re-run a cell again. You can also edit a cell and run the new code."
     ]
    },
    {
     "cell_type": "markdown",
     "metadata": {},
     "source": [
      "## Information about objects and functions\n",
      "\n",
      "There are ways you can quickly check what code you need to write. For instance, to find out what methods a string has:"
     ]
    },
    {
     "cell_type": "code",
     "collapsed": true,
     "input": [
      "a = \"Hello, world!\""
     ],
     "language": "python",
     "metadata": {},
     "outputs": [],
     "prompt_number": null
    },
    {
     "cell_type": "code",
     "collapsed": true,
     "input": [
      "# Put the cursor after the dot and press tab\n",
      "a."
     ],
     "language": "python",
     "metadata": {},
     "outputs": [],
     "prompt_number": null
    },
    {
     "cell_type": "markdown",
     "metadata": {},
     "source": [
      "You can also get information on specific functions with `?`:"
     ]
    },
    {
     "cell_type": "code",
     "collapsed": false,
     "input": [
      "a.find?"
     ],
     "language": "python",
     "metadata": {},
     "outputs": [],
     "prompt_number": null
    },
    {
     "cell_type": "markdown",
     "metadata": {},
     "source": [
      "## Rich Output\n",
      "\n",
      "Code can produce graphs and tables which are shown in the notebook:"
     ]
    },
    {
     "cell_type": "code",
     "collapsed": false,
     "input": [
      "import pandas as pd\n",
      "\n",
      "pd.read_csv('python_intermediate/A1_mosquito_data.csv')"
     ],
     "language": "python",
     "metadata": {},
     "outputs": [
      {
       "html": [
        "<div style=\"max-height:1000px;max-width:1500px;overflow:auto;\">\n",
        "<table border=\"1\" class=\"dataframe\">\n",
        "  <thead>\n",
        "    <tr style=\"text-align: right;\">\n",
        "      <th></th>\n",
        "      <th>year</th>\n",
        "      <th>temperature</th>\n",
        "      <th>rainfall</th>\n",
        "      <th>mosquitos</th>\n",
        "    </tr>\n",
        "  </thead>\n",
        "  <tbody>\n",
        "    <tr>\n",
        "      <th>0</th>\n",
        "      <td> 2001</td>\n",
        "      <td> 80</td>\n",
        "      <td> 157</td>\n",
        "      <td> 150</td>\n",
        "    </tr>\n",
        "    <tr>\n",
        "      <th>1</th>\n",
        "      <td> 2002</td>\n",
        "      <td> 85</td>\n",
        "      <td> 252</td>\n",
        "      <td> 217</td>\n",
        "    </tr>\n",
        "    <tr>\n",
        "      <th>2</th>\n",
        "      <td> 2003</td>\n",
        "      <td> 86</td>\n",
        "      <td> 154</td>\n",
        "      <td> 153</td>\n",
        "    </tr>\n",
        "    <tr>\n",
        "      <th>3</th>\n",
        "      <td> 2004</td>\n",
        "      <td> 87</td>\n",
        "      <td> 159</td>\n",
        "      <td> 158</td>\n",
        "    </tr>\n",
        "    <tr>\n",
        "      <th>4</th>\n",
        "      <td> 2005</td>\n",
        "      <td> 74</td>\n",
        "      <td> 292</td>\n",
        "      <td> 243</td>\n",
        "    </tr>\n",
        "    <tr>\n",
        "      <th>5</th>\n",
        "      <td> 2006</td>\n",
        "      <td> 75</td>\n",
        "      <td> 283</td>\n",
        "      <td> 237</td>\n",
        "    </tr>\n",
        "    <tr>\n",
        "      <th>6</th>\n",
        "      <td> 2007</td>\n",
        "      <td> 80</td>\n",
        "      <td> 214</td>\n",
        "      <td> 190</td>\n",
        "    </tr>\n",
        "    <tr>\n",
        "      <th>7</th>\n",
        "      <td> 2008</td>\n",
        "      <td> 85</td>\n",
        "      <td> 197</td>\n",
        "      <td> 181</td>\n",
        "    </tr>\n",
        "    <tr>\n",
        "      <th>8</th>\n",
        "      <td> 2009</td>\n",
        "      <td> 74</td>\n",
        "      <td> 231</td>\n",
        "      <td> 200</td>\n",
        "    </tr>\n",
        "    <tr>\n",
        "      <th>9</th>\n",
        "      <td> 2010</td>\n",
        "      <td> 74</td>\n",
        "      <td> 207</td>\n",
        "      <td> 184</td>\n",
        "    </tr>\n",
        "  </tbody>\n",
        "</table>\n",
        "</div>"
       ],
       "metadata": {},
       "output_type": "pyout",
       "prompt_number": 1,
       "text": [
        "   year  temperature  rainfall  mosquitos\n",
        "0  2001           80       157        150\n",
        "1  2002           85       252        217\n",
        "2  2003           86       154        153\n",
        "3  2004           87       159        158\n",
        "4  2005           74       292        243\n",
        "5  2006           75       283        237\n",
        "6  2007           80       214        190\n",
        "7  2008           85       197        181\n",
        "8  2009           74       231        200\n",
        "9  2010           74       207        184"
       ]
      }
     ],
     "prompt_number": 1
    },
    {
     "cell_type": "code",
     "collapsed": false,
     "input": [
      "%matplotlib inline\n",
      "import numpy as np\n",
      "import matplotlib.pyplot as plt\n",
      "\n",
      "t = np.linspace(0, 10, 1000)\n",
      "y = t\n",
      "for omega in range(1,8):\n",
      "    y = y * np.sin(omega * t)\n",
      "    plt.plot(t, y)"
     ],
     "language": "python",
     "metadata": {},
     "outputs": [
      {
       "metadata": {},
       "output_type": "display_data",
       "png": "[encoded data removed]",
       "text": [
        "<matplotlib.figure.Figure at 0x7f8b08a4dc50>"
       ]
      }
     ],
     "prompt_number": 4
    },
    {
     "cell_type": "markdown",
     "metadata": {},
     "source": [
      "## Sharing notebooks\n",
      "\n",
      "You can put your Notebooks online, and share a link to them on Nbviewer. Many people store notebooks on Github.\n",
      "\n",
      "Here's this notebook: http://nbviewer.ipython.org/github/takluyver/ucb-ipython-intro/blob/master/Notebook%20intro.ipynb\n",
      "\n",
      "You can also convert a notebook to HTML or PDF, for instance if it contains private information that you don't want to publish."
     ]
    }
   ],
   "metadata": {}
  }
 ]
}