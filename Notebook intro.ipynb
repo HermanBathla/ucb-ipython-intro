{
 "metadata": {
  "kernelspec": {
   "display_name": "Python 2",
   "language": "python",
   "name": "python2"
  },
  "language_info": {
   "codemirror_mode": {
    "name": "ipython",
    "version": 2
   },
   "file_extension": ".py",
   "mimetype": "text/x-python",
   "name": "python",
   "nbconvert_exporter": "python",
   "pygments_lexer": "ipython2",
   "version": "2.7.8"
  },
  "name": ""
 },
 "nbformat": 3,
 "nbformat_minor": 0,
 "worksheets": [
  {
   "cells": [
    {
     "cell_type": "markdown",
     "metadata": {},
     "source": [
      "# Welcome to the IPython Notebook\n",
      "\n",
      "The IPython Notebook is a tool for scientific programming. You create *notebooks*, documents containing your code and the output from running the code, as well as notes. This document is a notebook.\n",
      "\n",
      "The Notebook is very useful for:\n",
      "\n",
      "- *Exploratory coding*: when you don't know in advance exactly what you need to do, you write a little bit of code, run it, go back and tweak it, run it again, and so on.\n",
      "- *Sharing your work*: explain and demonstrate what you're doing, then upload it (e.g. to Github), and send people a link to view it on [nbviewer](http://nbviewer.ipython.org/).\n",
      "- Lessons, demos and talks\n",
      "\n",
      "But it's not the right tool for all programming: as code gets more complicated, we move pieces of it out into modules so that we can reuse it in several files.\n",
      "\n",
      "You should already have the IPython notebook installed. To launch it from the command line, run:\n",
      "\n",
      "    ipython notebook\n",
      "\n",
      "If you don't have it, see the [IPython install page](http://ipython.org/install.html)."
     ]
    },
    {
     "cell_type": "markdown",
     "metadata": {},
     "source": [
      "## Running code\n",
      "\n",
      "Here's some code. To run it, select the *cell* and press Shift-Enter, or click the <img alt=\"play icon\" src=\"play_button.png\" style=\"display:inline; vertical-align:text-bottom;\"> button in the toolbar."
     ]
    },
    {
     "cell_type": "code",
     "collapsed": true,
     "input": [
      "counter = 0"
     ],
     "language": "python",
     "metadata": {},
     "outputs": [],
     "prompt_number": null
    },
    {
     "cell_type": "code",
     "collapsed": false,
     "input": [
      "counter = counter + 1\n",
      "print \"Counter is\", counter"
     ],
     "language": "python",
     "metadata": {},
     "outputs": [],
     "prompt_number": null
    },
    {
     "cell_type": "markdown",
     "metadata": {},
     "source": [
      "You can go back and re-run a cell again. You can also edit a cell and run the new code."
     ]
    },
    {
     "cell_type": "markdown",
     "metadata": {},
     "source": [
      "## Information about objects and functions\n",
      "\n",
      "There are ways you can quickly check what code you need to write. For instance, to find out what methods a string has:"
     ]
    },
    {
     "cell_type": "code",
     "collapsed": true,
     "input": [
      "a = \"Hello, world!\""
     ],
     "language": "python",
     "metadata": {},
     "outputs": [],
     "prompt_number": null
    },
    {
     "cell_type": "code",
     "collapsed": true,
     "input": [
      "# Put the cursor after the dot and press tab\n",
      "a."
     ],
     "language": "python",
     "metadata": {},
     "outputs": [],
     "prompt_number": null
    },
    {
     "cell_type": "markdown",
     "metadata": {},
     "source": [
      "You can also get information on specific functions:"
     ]
    },
    {
     "cell_type": "code",
     "collapsed": false,
     "input": [
      "# Put the cursor after ( and press Shift-Tab (press again to expand the popup)\n",
      "a.find("
     ],
     "language": "python",
     "metadata": {},
     "outputs": [],
     "prompt_number": null
    },
    {
     "cell_type": "markdown",
     "metadata": {},
     "source": []
    }
   ],
   "metadata": {}
  }
 ]
}